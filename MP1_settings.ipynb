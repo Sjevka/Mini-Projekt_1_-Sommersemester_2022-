{
 "cells": [
  {
   "cell_type": "markdown",
   "id": "5daa857b",
   "metadata": {},
   "source": [
    "# Dependencies"
   ]
  },
  {
   "cell_type": "code",
   "execution_count": 1,
   "id": "dd88f308",
   "metadata": {},
   "outputs": [],
   "source": [
    "%matplotlib inline\n",
    "\n",
    "import matplotlib.pyplot as plt\n",
    "import numpy as np\n",
    "from scipy import interpolate\n",
    "from scipy.optimize import minimize\n",
    "\n",
    "import csv\n",
    "import pandas as pd\n",
    "import seaborn as sns\n",
    "from matplotlib.lines import Line2D\n",
    "\n",
    "import matplotlib as mpl\n",
    "import importlib\n",
    "importlib.reload(mpl); importlib.reload(plt); importlib.reload(sns)\n",
    "\n",
    "import glob\n",
    "import os\n",
    "from IPython.display import clear_output"
   ]
  },
  {
   "cell_type": "markdown",
   "id": "951fed9d",
   "metadata": {},
   "source": [
    "# Functions for RMSD and CC calculation"
   ]
  },
  {
   "cell_type": "code",
   "execution_count": 2,
   "id": "9562cfda",
   "metadata": {},
   "outputs": [],
   "source": [
    "def RMSD_btw(ygrid_A, ygrid_B): # Data has to be interpolated if one of the spectra was shifted!!!\n",
    "    \n",
    "    array_A = np.array(ygrid_A)\n",
    "    array_B = np.array(ygrid_B)\n",
    "    \n",
    "    key = ~np.isnan(array_A+array_B) # remove all NaNs\n",
    "\n",
    "    array_A = array_A[key]\n",
    "    array_B = array_B[key]\n",
    "\n",
    "    return np.sqrt(np.sum((array_A-array_B)**2)/np.sum(array_B**2))\n",
    "\n",
    "\n",
    "def CC_btw(ygrid_A, ygrid_B): # Data has to be interpolated if one of the spectra was shifted!!!\n",
    "      \n",
    "    array_A = np.array(ygrid_A)\n",
    "    array_B = np.array(ygrid_B)\n",
    "    \n",
    "    key = ~np.isnan(array_A+array_B) # remove all NaNs\n",
    "\n",
    "    array_A = array_A[key]\n",
    "    array_B = array_B[key]\n",
    "    \n",
    "    mean_A = np.mean(array_A)\n",
    "    mean_B = np.mean(array_B)\n",
    "    \n",
    "    return np.sum((array_A-mean_A)*(array_B-mean_B))/np.sqrt(np.sum((array_A-mean_A)**2)*np.sum((array_B-mean_B)**2))"
   ]
  },
  {
   "cell_type": "markdown",
   "id": "22875e61",
   "metadata": {},
   "source": [
    "# Hyperparameters"
   ]
  },
  {
   "cell_type": "code",
   "execution_count": 5,
   "id": "bcc34bc3",
   "metadata": {},
   "outputs": [],
   "source": [
    "#Names of the columns in data files\n",
    "colnames=['Frequency', 'Impedance', 'Phase', 'Real', 'Imaginary', 'Magnitude'] \n",
    "\n",
    "# Name of parameter and result files\n",
    "parameter_path = r'data\\trainable_parameters.dat'\n",
    "result_path = r'data\\result.dat'"
   ]
  },
  {
   "cell_type": "code",
   "execution_count": 4,
   "id": "367da2e8",
   "metadata": {},
   "outputs": [],
   "source": [
    "#Name of the columns used for analysis\n",
    "X_NAME = 'Frequency'\n",
    "Y_NAME = 'Impedance'\n",
    "\n",
    "#Frequency range\n",
    "FREQ_MIN = 43600 #Minimum frequency in Hz\n",
    "FREQ_MAX = 79800 #Maximum frequency in Hz\n",
    "\n",
    "#Used methods for ...\n",
    "MIN_METHOD = 'Nelder-Mead' # Minimization\n",
    "INT_METHOD = 'linear' # Interpolation\n",
    "\n",
    "# Form of horizontal shift (in this case: linear)\n",
    "def horizontal_shift(x, p): \n",
    "    (a, b) = p # Parameters\n",
    "    \n",
    "    x_new = x+(a+b*x) # Formula\n",
    "     \n",
    "    return x_new\n",
    "\n",
    "hor_PARAM_INIT = np.array([0, 0]) # initial parameters for regression\n",
    "hor_PARAM_RANGE =  ((-3000, 3000), (-0.01, 0.01)) # parameter ranges for regression\n",
    "\n",
    "# Form of vertical shift (in this case: cubic)\n",
    "def vertical_shift(y, p, T): \n",
    "    (a, b, c, d) = p # Parameters\n",
    "    \n",
    "    y_new = y+a+b*T+c*T**2+d*T**3 # Formula\n",
    "    \n",
    "    return y_new\n",
    "\n",
    "ver_DIM = 4 # Number of Parameters for vertical shift (in this case: a, b, c and d)"
   ]
  },
  {
   "cell_type": "code",
   "execution_count": null,
   "id": "10db1420",
   "metadata": {},
   "outputs": [],
   "source": []
  }
 ],
 "metadata": {
  "kernelspec": {
   "display_name": "Python 3 (ipykernel)",
   "language": "python",
   "name": "python3"
  },
  "language_info": {
   "codemirror_mode": {
    "name": "ipython",
    "version": 3
   },
   "file_extension": ".py",
   "mimetype": "text/x-python",
   "name": "python",
   "nbconvert_exporter": "python",
   "pygments_lexer": "ipython3",
   "version": "3.9.7"
  }
 },
 "nbformat": 4,
 "nbformat_minor": 5
}
