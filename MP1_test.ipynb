{
 "cells": [
  {
   "cell_type": "markdown",
   "id": "ab6d7075",
   "metadata": {},
   "source": [
    "# Notebook for running testing"
   ]
  },
  {
   "cell_type": "markdown",
   "id": "f06fd9fe",
   "metadata": {},
   "source": [
    "## Import settings from settings notebook"
   ]
  },
  {
   "cell_type": "code",
   "execution_count": 1,
   "id": "88884c01",
   "metadata": {},
   "outputs": [],
   "source": [
    "%run MP1_settings.ipynb"
   ]
  },
  {
   "cell_type": "markdown",
   "id": "7c8c85b7",
   "metadata": {},
   "source": [
    "## Load all files from testing data folder"
   ]
  },
  {
   "cell_type": "code",
   "execution_count": 2,
   "id": "3f51045c",
   "metadata": {},
   "outputs": [],
   "source": [
    "line = []\n",
    "freq = []\n",
    "\n",
    "file_list = glob.glob(r'data\\test_data\\*.csv')\n",
    "for filename in file_list:\n",
    "    df = pd.read_csv (filename, delimiter=r'\\s+,', decimal=',', skiprows=1, header=None, names=colnames, engine='python')\n",
    "    line.append(np.array(df[Y_NAME]))\n",
    "    freq.append(np.array(df[X_NAME]))\n",
    "    \n",
    "\n",
    "n = len(freq)\n",
    "n_freq = len(freq[0])\n",
    "line = np.array(line)\n",
    "freq = np.array(freq)"
   ]
  },
  {
   "cell_type": "code",
   "execution_count": 3,
   "id": "f789d510",
   "metadata": {},
   "outputs": [],
   "source": [
    "df = pd.read_csv (parameter_path, delimiter=r',', decimal='.')"
   ]
  },
  {
   "cell_type": "code",
   "execution_count": 4,
   "id": "97ab7e0b",
   "metadata": {},
   "outputs": [],
   "source": [
    "basefreq = np.array(df['basefreq'])\n",
    "baseline = np.array(df['baseline'])\n",
    "\n",
    "n_freq_base = len(basefreq)\n",
    "\n",
    "vert_shift_spectrum = np.zeros((ver_DIM, n_freq_base)) \n",
    "\n",
    "for k in range(ver_DIM):\n",
    "    vert_shift_spectrum[k] = np.array(df[f'parameter_{k}'])"
   ]
  },
  {
   "cell_type": "code",
   "execution_count": 5,
   "id": "f6fd4673",
   "metadata": {},
   "outputs": [
    {
     "name": "stdout",
     "output_type": "stream",
     "text": [
      "Horizontal shift assessment\n",
      "320/320\n"
     ]
    }
   ],
   "source": [
    "freq_shifted = np.zeros((n,n_freq))\n",
    "\n",
    "for i in range(n):\n",
    "    def min_func(p):\n",
    "        line_int = interpolate.interp1d(horizontal_shift(freq[i], p), line[i], kind=INT_METHOD, bounds_error=False)(basefreq)\n",
    "        return 1 - CC_btw(line_int, baseline)\n",
    "\n",
    "    popt = minimize(min_func, hor_PARAM_INIT, method=MIN_METHOD, tol=1e-12, bounds=hor_PARAM_RANGE)\n",
    "\n",
    "    freq_shifted[i] = horizontal_shift(freq[i], popt.x)\n",
    "\n",
    "    clear_output(wait=True)\n",
    "    print(f'Horizontal shift assessment')\n",
    "    print(f'{i+1}/{n}')"
   ]
  },
  {
   "cell_type": "code",
   "execution_count": 6,
   "id": "d68664de",
   "metadata": {},
   "outputs": [],
   "source": [
    "line_fit = np.zeros((n,n_freq_base))\n",
    "\n",
    "for i in range(n):\n",
    "    line_fit[i] = interpolate.interp1d(freq_shifted[i], line[i], kind=INT_METHOD, bounds_error=False)(basefreq)"
   ]
  },
  {
   "cell_type": "code",
   "execution_count": 7,
   "id": "03bd5908",
   "metadata": {},
   "outputs": [
    {
     "name": "stdout",
     "output_type": "stream",
     "text": [
      "Vertical shift assessment\n",
      "320/320\n"
     ]
    }
   ],
   "source": [
    "line_guessed = np.zeros((n,n_freq_base))\n",
    "T_guessed = np.zeros(n)\n",
    "\n",
    "for i in range(n):\n",
    "    def min_func(p):\n",
    "        return RMSD_btw(baseline, vertical_shift(line_fit[i], vert_shift_spectrum, *p))\n",
    "\n",
    "\n",
    "    popt = minimize(min_func, [30], method=MIN_METHOD, tol=1e-12, bounds=np.array([[20,40]]))\n",
    "    T_guessed[i] = popt.x\n",
    "\n",
    "    line_guessed[i] = vertical_shift(line_fit[i], vert_shift_spectrum,  T_guessed[i])\n",
    "\n",
    "    clear_output(wait=True)\n",
    "    print(f'Vertical shift assessment')\n",
    "    print(f'{i+1}/{n}')"
   ]
  },
  {
   "cell_type": "markdown",
   "id": "5c43bbe7",
   "metadata": {},
   "source": [
    "# Compute final result\n",
    "The result is the RMSD between each horizontally and vertically shifted line. If the training was successful, there should be a threshhold between measurements with structural damage and no structural damage."
   ]
  },
  {
   "cell_type": "code",
   "execution_count": 8,
   "id": "3d1a7c2e",
   "metadata": {},
   "outputs": [],
   "source": [
    "rmsd = []\n",
    "for i in range(n):\n",
    "    rmsd.append(RMSD_btw(line_guessed[i], baseline))"
   ]
  },
  {
   "cell_type": "markdown",
   "id": "f27c9219",
   "metadata": {},
   "source": [
    "# Save result\n",
    "The result can be read and analyzed later. Additionally the predicted Temperature is saved."
   ]
  },
  {
   "cell_type": "code",
   "execution_count": 9,
   "id": "c4cee7a1",
   "metadata": {},
   "outputs": [
    {
     "name": "stdout",
     "output_type": "stream",
     "text": [
      "Result saved to data\\result.dat\n"
     ]
    }
   ],
   "source": [
    "header = ['file', 'RMSD', 'T_predicted']\n",
    "\n",
    "with open(result_path, 'w', encoding='UTF8') as f:\n",
    "    writer = csv.writer(f, delimiter =',')\n",
    "    f.truncate(0)\n",
    "    # Write the header\n",
    "    writer.writerow(header)\n",
    "    \n",
    "    for i in range(n):\n",
    "        data = [file_list[i], rmsd[i], T_guessed[i]]\n",
    "        # Write data\n",
    "        writer.writerow(data)\n",
    "\n",
    "print('Result saved to {}'.format(result_path))"
   ]
  },
  {
   "cell_type": "code",
   "execution_count": null,
   "id": "10ef0ae1",
   "metadata": {},
   "outputs": [],
   "source": []
  }
 ],
 "metadata": {
  "kernelspec": {
   "display_name": "Python 3 (ipykernel)",
   "language": "python",
   "name": "python3"
  },
  "language_info": {
   "codemirror_mode": {
    "name": "ipython",
    "version": 3
   },
   "file_extension": ".py",
   "mimetype": "text/x-python",
   "name": "python",
   "nbconvert_exporter": "python",
   "pygments_lexer": "ipython3",
   "version": "3.9.7"
  }
 },
 "nbformat": 4,
 "nbformat_minor": 5
}
