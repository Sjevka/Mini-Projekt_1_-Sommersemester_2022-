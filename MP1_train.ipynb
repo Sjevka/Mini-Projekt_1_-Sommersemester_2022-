{
 "cells": [
  {
   "cell_type": "markdown",
   "id": "171f28a0",
   "metadata": {},
   "source": [
    "# Notebook for running calibration / training"
   ]
  },
  {
   "cell_type": "markdown",
   "id": "3f23f525",
   "metadata": {},
   "source": [
    "## Import settings from settings notebook"
   ]
  },
  {
   "cell_type": "code",
   "execution_count": 1,
   "id": "88884c01",
   "metadata": {},
   "outputs": [],
   "source": [
    "%run MP1_settings.ipynb"
   ]
  },
  {
   "cell_type": "markdown",
   "id": "8d95ed84",
   "metadata": {},
   "source": [
    "## Load file with the temperature information for all traning data files\n",
    "The file contains the temperature for all files we had available, but later only the temperatures of the files in the training data folder is used during training. You don't have to delete unused file names from the list, just delete the file from the folder."
   ]
  },
  {
   "cell_type": "code",
   "execution_count": 2,
   "id": "46961096",
   "metadata": {},
   "outputs": [],
   "source": [
    "TEMPERATURE_FILE = r'data\\train_data\\temperature.dat' # Name of file\n",
    "\n",
    "temperature_list = pd.read_csv(TEMPERATURE_FILE, delimiter=r',', decimal='.') #Loading file"
   ]
  },
  {
   "cell_type": "markdown",
   "id": "f0619ebc",
   "metadata": {},
   "source": [
    "## Load all files from training data folder and lookup the temperature information"
   ]
  },
  {
   "cell_type": "code",
   "execution_count": 3,
   "id": "3595f607",
   "metadata": {},
   "outputs": [
    {
     "name": "stdout",
     "output_type": "stream",
     "text": [
      "21 files loaded.\n"
     ]
    }
   ],
   "source": [
    "line = []\n",
    "freq = []\n",
    "temperature = []\n",
    "\n",
    "file_list = glob.glob(r'data\\train_data\\*.csv')\n",
    "for filename in file_list:\n",
    "    df = pd.read_csv (filename, delimiter=r'\\s+,', decimal=',', skiprows=1, header=None, names=colnames, engine='python')\n",
    "    line.append(np.array(df[Y_NAME]))\n",
    "    freq.append(np.array(df[X_NAME]))\n",
    "    temperature_given = (filename.split('train_data\\\\')[-1]==temperature_list['file'])\n",
    "    temperature.append(*np.array(temperature_list[temperature_given]['temperature']))\n",
    "\n",
    "n = len(freq)\n",
    "n_freq = len(freq[0])\n",
    "line = np.array(line)\n",
    "freq = np.array(freq)\n",
    "temperature = np.array(temperature)\n",
    "\n",
    "print('{} files loaded.'.format(n))"
   ]
  },
  {
   "cell_type": "markdown",
   "id": "ae16de70",
   "metadata": {},
   "source": [
    "# Selecting the Baseline\n",
    "The selection of the baseline is somewhat arbitrary. We just select the first (by name) file with the lowest temperature. Setting $i=0$ will select just the first (by name) file as the baseline."
   ]
  },
  {
   "cell_type": "code",
   "execution_count": 4,
   "id": "6fa685e3",
   "metadata": {},
   "outputs": [
    {
     "name": "stdout",
     "output_type": "stream",
     "text": [
      "File\n",
      "data\\train_data\\plate_4.csv\n",
      "is the baseline.\n"
     ]
    }
   ],
   "source": [
    "#Basislinie wird festgelegt\n",
    "i = np.array(np.where(temperature == temperature.min())).flatten()[0] # in this case: first file with the lowest temperature\n",
    "# i = 0 # in this case: first file\n",
    "\n",
    "baseline = []# y-values\n",
    "basefreq = []# x-values\n",
    "\n",
    "for f in range(n_freq):\n",
    "    if (FREQ_MIN<=freq[i,f])&(freq[i,f]<=FREQ_MAX):\n",
    "        baseline.append(np.mean(line[:10,f]))\n",
    "        basefreq.append(freq[i,f])\n",
    "        \n",
    "baseline = np.array(baseline)\n",
    "basefreq = np.array(basefreq)\n",
    "\n",
    "n_freq_base = len(basefreq)\n",
    "\n",
    "print('File\\n{}\\nis the baseline.'.format(file_list[i]))"
   ]
  },
  {
   "cell_type": "code",
   "execution_count": 5,
   "id": "74370fc6",
   "metadata": {},
   "outputs": [
    {
     "name": "stdout",
     "output_type": "stream",
     "text": [
      "Horizontal shift assessment\n",
      "21/21\n"
     ]
    }
   ],
   "source": [
    "freq_shifted = np.zeros((n,n_freq))\n",
    "\n",
    "for i in range(n):\n",
    "    def min_func(p):\n",
    "        line_int = interpolate.interp1d(horizontal_shift(freq[i], p), line[i], kind=INT_METHOD, bounds_error=False)(basefreq)\n",
    "        return 1 - CC_btw(line_int, baseline)\n",
    "\n",
    "    popt = minimize(min_func, hor_PARAM_INIT, method=MIN_METHOD, tol=1e-12, bounds=hor_PARAM_RANGE)\n",
    "\n",
    "    freq_shifted[i] = horizontal_shift(freq[i], popt.x)\n",
    "\n",
    "    clear_output(wait=True)\n",
    "    print(f'Horizontal shift assessment')\n",
    "    print(f'{i+1}/{n}')"
   ]
  },
  {
   "cell_type": "code",
   "execution_count": 6,
   "id": "921fb1bf",
   "metadata": {},
   "outputs": [],
   "source": [
    "line_fit = np.zeros((n,n_freq_base))\n",
    "\n",
    "for i in range(n):\n",
    "    line_fit[i] = interpolate.interp1d(freq_shifted[i], line[i], kind=INT_METHOD, bounds_error=False)(basefreq)"
   ]
  },
  {
   "cell_type": "code",
   "execution_count": 7,
   "id": "73b6c4c3",
   "metadata": {},
   "outputs": [],
   "source": [
    "vert_shift_spectrum = np.zeros((ver_DIM, n_freq_base)) \n",
    "vert_shift_spectrum[0] = baseline"
   ]
  },
  {
   "cell_type": "code",
   "execution_count": 8,
   "id": "305418de",
   "metadata": {},
   "outputs": [
    {
     "name": "stdout",
     "output_type": "stream",
     "text": [
      "Vertical shift assessment\n",
      "Frequency: 79800 Hz\n"
     ]
    }
   ],
   "source": [
    "for f in range(n_freq_base):\n",
    "    \n",
    "    def min_func(p):\n",
    "        return RMSD_btw(np.tile(baseline[f], n), vertical_shift(line_fit[:,f], p, temperature))\n",
    "\n",
    "    popt = minimize(min_func, vert_shift_spectrum[:,f], method=MIN_METHOD, tol=1e-12)\n",
    "    vert_shift_spectrum[:,f] = popt.x\n",
    "    \n",
    "    clear_output(wait=True)\n",
    "    print('Vertical shift assessment')\n",
    "    print('Frequency: {} Hz'.format(basefreq[f]))"
   ]
  },
  {
   "cell_type": "markdown",
   "id": "6e1014fd",
   "metadata": {},
   "source": [
    "# Save Parameters and Baseline"
   ]
  },
  {
   "cell_type": "code",
   "execution_count": 9,
   "id": "07e94c85",
   "metadata": {},
   "outputs": [
    {
     "name": "stdout",
     "output_type": "stream",
     "text": [
      "Parameters and Baseline saved to data\\trainable_parameters.dat\n"
     ]
    }
   ],
   "source": [
    "header = ['basefreq', 'baseline']\n",
    "for k in range(ver_DIM):\n",
    "    header.append(f'parameter_{k}')\n",
    "\n",
    "with open(parameter_path, 'w', encoding='UTF8') as f:\n",
    "    writer = csv.writer(f, delimiter =',')\n",
    "    f.truncate(0)\n",
    "    # Write the header\n",
    "    writer.writerow(header)\n",
    "    \n",
    "    for f in range(n_freq_base):\n",
    "        data = [basefreq[f], baseline[f], *vert_shift_spectrum[:,f]]\n",
    "        # Write data\n",
    "        writer.writerow(data)\n",
    "        \n",
    "print('Parameters and Baseline saved to {}'.format(parameter_path))"
   ]
  },
  {
   "cell_type": "code",
   "execution_count": null,
   "id": "8adf5ac3",
   "metadata": {},
   "outputs": [],
   "source": []
  },
  {
   "cell_type": "code",
   "execution_count": null,
   "id": "e837105a",
   "metadata": {},
   "outputs": [],
   "source": []
  }
 ],
 "metadata": {
  "kernelspec": {
   "display_name": "Python 3 (ipykernel)",
   "language": "python",
   "name": "python3"
  },
  "language_info": {
   "codemirror_mode": {
    "name": "ipython",
    "version": 3
   },
   "file_extension": ".py",
   "mimetype": "text/x-python",
   "name": "python",
   "nbconvert_exporter": "python",
   "pygments_lexer": "ipython3",
   "version": "3.9.7"
  }
 },
 "nbformat": 4,
 "nbformat_minor": 5
}
